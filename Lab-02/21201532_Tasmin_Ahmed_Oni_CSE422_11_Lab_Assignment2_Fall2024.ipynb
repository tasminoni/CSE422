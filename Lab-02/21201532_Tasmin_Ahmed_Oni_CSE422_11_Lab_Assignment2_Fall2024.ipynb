{
  "nbformat": 4,
  "nbformat_minor": 0,
  "metadata": {
    "colab": {
      "provenance": []
    },
    "kernelspec": {
      "name": "python3",
      "display_name": "Python 3"
    },
    "language_info": {
      "name": "python"
    }
  },
  "cells": [
    {
      "cell_type": "code",
      "execution_count": null,
      "metadata": {
        "colab": {
          "base_uri": "https://localhost:8080/"
        },
        "id": "orA0E1OBxVoh",
        "outputId": "500c533e-48d2-4b56-8e17-20cf32d1ddeb"
      },
      "outputs": [
        {
          "output_type": "stream",
          "name": "stdout",
          "text": [
            "Best Chromosome: 0 0 1 0 1 0 1 0 0 \n",
            "Fitness Value: 0\n"
          ]
        }
      ],
      "source": [
        "#part-01\n",
        "\n",
        "import random\n",
        "\n",
        "def input_analysis(inputfile_a):\n",
        "    f_a = open(inputfile_a, \"r\")\n",
        "    N, T = map(int, f_a.readline().split())\n",
        "    courses = [line.strip() for line in f_a]\n",
        "    f_a.close()\n",
        "    return N, T, courses\n",
        "\n",
        "def calculate_fitness(chromosome, N, T):\n",
        "    overlap_penalty = 0\n",
        "    consistency_penalty = 0\n",
        "\n",
        "\n",
        "    for t in range(T):\n",
        "        timeslot = chromosome[t * N: (t + 1) * N]\n",
        "        #print(timeslot)\n",
        "        overlap_count = sum(timeslot)\n",
        "        if overlap_count > 1:\n",
        "            overlap_penalty += (overlap_count - 1)\n",
        "\n",
        "\n",
        "    for n in range(N):\n",
        "        course_schedule = [chromosome[t * N + n] for t in range(T)]\n",
        "        schedule_count = sum(course_schedule)\n",
        "        consistency_penalty += abs(schedule_count - 1)\n",
        "\n",
        "\n",
        "    total_penalty = overlap_penalty + consistency_penalty\n",
        "    return total_penalty * -1\n",
        "def initialize_population(pop_size, N, T):\n",
        "    population = []\n",
        "    for i in range(pop_size):\n",
        "        chromosome = []\n",
        "        for j in range(N * T):\n",
        "            chromosome.append(random.randint(0, 1))\n",
        "        population.append(chromosome)\n",
        "    #print(population)\n",
        "    return population\n",
        "\n",
        "def select_of_parents(population, fitnesses):\n",
        "    total_fitness = sum(fitnesses)\n",
        "    probabilities = []\n",
        "    for fitness in fitnesses:\n",
        "      probabilities.append(fitness / total_fitness)\n",
        "\n",
        "    parent1 = random.choices(population, probabilities)[0]\n",
        "    parent2 = random.choices(population, probabilities)[0]\n",
        "    return parent1, parent2\n",
        "def crossover_s(parent1, parent2):\n",
        "\n",
        "    max_point = len(parent1) - 1\n",
        "    crossover_s_point = random.randint(1, max_point)\n",
        "\n",
        "    child1 = parent1[:crossover_s_point] + parent2[crossover_s_point:]\n",
        "    child2 = parent2[:crossover_s_point] + parent1[crossover_s_point:]\n",
        "\n",
        "    return child1, child2\n",
        "def muta_tion(chromosome, mutation_rate=0.1):\n",
        "    muta_tiond_chromosome = []\n",
        "    for gene in chromosome:\n",
        "        if random.random() < mutation_rate:\n",
        "            muta_tiond_gene = 1 - gene\n",
        "        else:\n",
        "            muta_tiond_gene = gene\n",
        "        muta_tiond_chromosome.append(muta_tiond_gene)\n",
        "    return muta_tiond_chromosome\n",
        "\n",
        "def genetic_algorithm_function(inputfile_a, pop_size=10, max_generations=100, mutation_rate=0.1):\n",
        "    N, T, courses = input_analysis(inputfile_a)\n",
        "    population = initialize_population(pop_size, N, T)\n",
        "\n",
        "    for _ in range(max_generations):\n",
        "        fitnesses = []\n",
        "        for chromosome in population:\n",
        "            fitnesses.append(calculate_fitness(chromosome, N, T))\n",
        "\n",
        "        prefered_f = max(fitnesses)\n",
        "        prefered_index = fitnesses.index(prefered_f)\n",
        "        prefered_sol_n = population[prefered_index]\n",
        "\n",
        "        if prefered_f == 0:\n",
        "            return prefered_sol_n, prefered_f\n",
        "\n",
        "        new_population = []\n",
        "        for _ in range(pop_size // 2):\n",
        "            parent1, parent2 = select_of_parents(population, fitnesses)\n",
        "            child1, child2 = crossover_s(parent1, parent2)\n",
        "            new_population.extend([muta_tion(child1, mutation_rate), muta_tion(child2, mutation_rate)])\n",
        "        population = new_population\n",
        "\n",
        "    return prefered_sol_n, prefered_f\n",
        "\n",
        "def print_easy(child):\n",
        "    for i in child:\n",
        "        print(i, end = \" \")\n",
        "    print()\n",
        "\n",
        "N, T, courses = input_analysis(\"input.txt\")\n",
        "solution, fitness = genetic_algorithm_function(\"input.txt\")\n",
        "print(\"Best Chromosome:\",end=\" \")\n",
        "print_easy(solution)\n",
        "print(\"Fitness Value:\", fitness)\n"
      ]
    },
    {
      "cell_type": "code",
      "source": [
        "#part-02\n",
        "def two_point_crossover(parent1, parent2):\n",
        "    point1 = random.randint(0, len(parent1) - 2)\n",
        "    point2 = random.randint(point1 + 1, len(parent1) - 1)\n",
        "\n",
        "    child1 = parent1[:point1] + parent2[point1:point2] + parent1[point2:]\n",
        "    child2 = parent2[:point1] + parent1[point1:point2] + parent2[point2:]\n",
        "\n",
        "    return child1, child2\n",
        "\n",
        "def fitness_arr_creation(population, N, T):\n",
        "    fitness_arr = [0] * len(population)\n",
        "    for i in range(len(population)):\n",
        "        element = population[i]\n",
        "        fitness_arr[i] = calculate_fitness(element, N, T)\n",
        "\n",
        "    return fitness_arr\n",
        "\n",
        "def print_after_two_point_crossover(N, T):\n",
        "    population = initialize_population(10,N, T)\n",
        "    fitness_arr = fitness_arr_creation(population, N, T)\n",
        "\n",
        "    parent1, parent2 = select_of_parents(population, fitness_arr)\n",
        "    child1, child2 = two_point_crossover(parent1, parent2)\n",
        "\n",
        "    print(\"Parents:\")\n",
        "    print_easy(parent1)\n",
        "    print_easy(parent2)\n",
        "\n",
        "    print(\"Offsprings after two point crossover: \")\n",
        "    print_easy(child1)\n",
        "    print_easy(child2)\n",
        "\n",
        "print_after_two_point_crossover(N, T)"
      ],
      "metadata": {
        "colab": {
          "base_uri": "https://localhost:8080/"
        },
        "id": "NBfr8fIVxZYW",
        "outputId": "7827b442-24df-4793-da9e-f811a31b1dd1"
      },
      "execution_count": null,
      "outputs": [
        {
          "output_type": "stream",
          "name": "stdout",
          "text": [
            "Parents:\n",
            "0 0 0 1 1 0 1 1 1 \n",
            "1 1 0 1 0 0 1 0 1 \n",
            "Offsprings after two point crossover: \n",
            "0 0 0 1 1 0 1 0 1 \n",
            "1 1 0 1 0 0 1 1 1 \n"
          ]
        }
      ]
    },
    {
      "cell_type": "code",
      "source": [],
      "metadata": {
        "id": "FDb8ANHjxZgh"
      },
      "execution_count": null,
      "outputs": []
    }
  ]
}